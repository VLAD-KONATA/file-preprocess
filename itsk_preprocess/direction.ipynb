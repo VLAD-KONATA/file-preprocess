{
 "cells": [
  {
   "cell_type": "code",
   "execution_count": 1,
   "metadata": {},
   "outputs": [],
   "source": [
    "import shutil\n",
    "import nibabel as nib\n",
    "from nibabel.orientations import aff2axcodes\n",
    "import SimpleITK as sitk\n",
    "import os"
   ]
  },
  {
   "cell_type": "code",
   "execution_count": 2,
   "metadata": {},
   "outputs": [
    {
     "name": "stdout",
     "output_type": "stream",
     "text": [
      "('L', 'I', 'P')\n"
     ]
    }
   ],
   "source": [
    "#改变nii图像方向\n",
    "dir1='/home/konata/Dataset/TED_MRI/TOM500/all_image/1.nii.gz'\n",
    "img=nib.load(dir1)\n",
    "affine=img.affine\n",
    "orentation=aff2axcodes(affine)\n",
    "print(orentation)\n"
   ]
  },
  {
   "cell_type": "code",
   "execution_count": 4,
   "metadata": {},
   "outputs": [
    {
     "name": "stdout",
     "output_type": "stream",
     "text": [
      "{('L', 'I', 'P')}\n"
     ]
    }
   ],
   "source": [
    "dir='/home/konata/Dataset/TED_MRI/TOM500/test_fpsx2_2025_01_06_23_26_55/RIFE_test_nii_fpsx2/'\n",
    "list=os.listdir(dir)\n",
    "a=set()\n",
    "for file in list :\n",
    "    img=nib.load(dir+file)\n",
    "    affine=img.affine\n",
    "    orentation=aff2axcodes(affine)\n",
    "    if orentation!=('L', 'I', 'P'):\n",
    "        print(file)\n",
    "    a.add(orentation)\n",
    "print(a)"
   ]
  },
  {
   "cell_type": "code",
   "execution_count": null,
   "metadata": {},
   "outputs": [],
   "source": [
    "dir='/home/konata/Dataset/TED_MRI/TOM500/test_fpsx2_2025_01_06_23_26_55/RIFE_test_nii_fpsx2/'\n",
    "list=os.listdir(dir)\n",
    "#list=['3546828_2020-01-03.nii.gz']\n",
    "a=set()\n",
    "for file in list :\n",
    "    try:\n",
    "        img=nib.load(dir+file)\n",
    "        affine=img.affine\n",
    "        data=img.get_fdata()\n",
    "        orentation=aff2axcodes(affine)\n",
    "        if orentation==('L', 'A', 'S'):\n",
    "            affine[:,1]*=-1\n",
    "            flipped=np.flip(data,axis=1)\n",
    "            new_img=nib.Nifti1Image(flipped,affine)\n",
    "            nib.save(new_img,dir+file)\n",
    "            print('las '+file+' processed')\n",
    "        elif orentation==('L', 'S', 'P'):\n",
    "            affine[:,[1,2]]=affine[:,[2,1]]\n",
    "            swap=np.swapaxes(data,1,2)\n",
    "            new_img=nib.Nifti1Image(swap,affine)\n",
    "            nib.save(new_img,dir+file)\n",
    "            print('lsp '+file+' processed')\n",
    "        elif orentation==('L','S','A'):\n",
    "            affine[:,1]*=-1\n",
    "            flipped=np.flip(data,axis=1)\n",
    "            new_img=nib.Nifti1Image(flipped,affine)\n",
    "            nib.save(new_img,dir+file)\n",
    "            print('lsa '+file+' processed')\n",
    "        elif orentation==('L','I','A'):\n",
    "            affine[:,1]*=-1\n",
    "            affine[:,2]*=-1\n",
    "            flipped=np.flip(data,axis=(1,2))\n",
    "            new_img=nib.Nifti1Image(flipped,affine)\n",
    "            nib.save(new_img,dir+file)\n",
    "            print('lia '+file+' processed')\n",
    "    except:\n",
    "        print(file)\n",
    "        shutil.move(os.path.join(dir,file),os.path.join('/home/konata/Dataset/TAO_CT/ERROR',file))\n"
   ]
  },
  {
   "cell_type": "code",
   "execution_count": null,
   "metadata": {},
   "outputs": [],
   "source": []
  }
 ],
 "metadata": {
  "kernelspec": {
   "display_name": "preprocess",
   "language": "python",
   "name": "python3"
  },
  "language_info": {
   "codemirror_mode": {
    "name": "ipython",
    "version": 3
   },
   "file_extension": ".py",
   "mimetype": "text/x-python",
   "name": "python",
   "nbconvert_exporter": "python",
   "pygments_lexer": "ipython3",
   "version": "3.9.19"
  },
  "orig_nbformat": 4
 },
 "nbformat": 4,
 "nbformat_minor": 2
}
