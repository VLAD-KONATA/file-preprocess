{
 "cells": [
  {
   "cell_type": "code",
   "execution_count": 1,
   "metadata": {},
   "outputs": [],
   "source": [
    "import torch\n",
    "import os\n",
    "import numpy as np\n",
    "import SimpleITK as sitk"
   ]
  },
  {
   "cell_type": "code",
   "execution_count": 2,
   "metadata": {},
   "outputs": [],
   "source": [
    "def Dice(pre,gd):\n",
    "    dice=((pre*gd).sum().item()*2+1e-5)/(pre.sum().item()+gd.sum().item()+1e-5)\n",
    "    return dice"
   ]
  },
  {
   "cell_type": "code",
   "execution_count": 8,
   "metadata": {},
   "outputs": [],
   "source": [
    "def soft_dice(pre,gd):\n",
    "    dice=0\n",
    "    pre=pre[:,:,::2]\n",
    "    gd=torch.squeeze(gd).to(device='cuda:0')\n",
    "    pre=torch.squeeze(pre).to(device='cuda:0')\n",
    "    A=torch.unique(gd)\n",
    "    #assert pre.shape==gd.shape\n",
    "    for i in A:\n",
    "        i=i.item()\n",
    "        if i!=0:\n",
    "            pre_=(pre==i).int()\n",
    "            gd_=(gd==i).int()\n",
    "            dice+=Dice(pre_,gd_)\n",
    "    return dice/(len(A)-1)"
   ]
  },
  {
   "cell_type": "code",
   "execution_count": 9,
   "metadata": {},
   "outputs": [
    {
     "ename": "RuntimeError",
     "evalue": "The size of tensor a (256) must match the size of tensor b (512) at non-singleton dimension 2",
     "output_type": "error",
     "traceback": [
      "\u001b[1;31m---------------------------------------------------------------------------\u001b[0m",
      "\u001b[1;31mRuntimeError\u001b[0m                              Traceback (most recent call last)",
      "Cell \u001b[1;32mIn[9], line 11\u001b[0m\n\u001b[0;32m      9\u001b[0m gd\u001b[38;5;241m=\u001b[39mtorch\u001b[38;5;241m.\u001b[39mfrom_numpy(label\u001b[38;5;241m.\u001b[39mastype(\u001b[38;5;28mfloat\u001b[39m))\n\u001b[0;32m     10\u001b[0m pre\u001b[38;5;241m=\u001b[39mtorch\u001b[38;5;241m.\u001b[39mfrom_numpy(seg\u001b[38;5;241m.\u001b[39mastype(\u001b[38;5;28mfloat\u001b[39m))\n\u001b[1;32m---> 11\u001b[0m \u001b[38;5;28mprint\u001b[39m(file,\u001b[43msoft_dice\u001b[49m\u001b[43m(\u001b[49m\u001b[43mpre\u001b[49m\u001b[43m,\u001b[49m\u001b[43mgd\u001b[49m\u001b[43m)\u001b[49m)\n",
      "Cell \u001b[1;32mIn[8], line 13\u001b[0m, in \u001b[0;36msoft_dice\u001b[1;34m(pre, gd)\u001b[0m\n\u001b[0;32m     11\u001b[0m         pre_\u001b[38;5;241m=\u001b[39m(pre\u001b[38;5;241m==\u001b[39mi)\u001b[38;5;241m.\u001b[39mint()\n\u001b[0;32m     12\u001b[0m         gd_\u001b[38;5;241m=\u001b[39m(gd\u001b[38;5;241m==\u001b[39mi)\u001b[38;5;241m.\u001b[39mint()\n\u001b[1;32m---> 13\u001b[0m         dice\u001b[38;5;241m+\u001b[39m\u001b[38;5;241m=\u001b[39m\u001b[43mDice\u001b[49m\u001b[43m(\u001b[49m\u001b[43mpre_\u001b[49m\u001b[43m,\u001b[49m\u001b[43mgd_\u001b[49m\u001b[43m)\u001b[49m\n\u001b[0;32m     14\u001b[0m \u001b[38;5;28;01mreturn\u001b[39;00m dice\u001b[38;5;241m/\u001b[39m(\u001b[38;5;28mlen\u001b[39m(A)\u001b[38;5;241m-\u001b[39m\u001b[38;5;241m1\u001b[39m)\n",
      "Cell \u001b[1;32mIn[2], line 2\u001b[0m, in \u001b[0;36mDice\u001b[1;34m(pre, gd)\u001b[0m\n\u001b[0;32m      1\u001b[0m \u001b[38;5;28;01mdef\u001b[39;00m \u001b[38;5;21mDice\u001b[39m(pre,gd):\n\u001b[1;32m----> 2\u001b[0m     dice\u001b[38;5;241m=\u001b[39m((\u001b[43mpre\u001b[49m\u001b[38;5;241;43m*\u001b[39;49m\u001b[43mgd\u001b[49m)\u001b[38;5;241m.\u001b[39msum()\u001b[38;5;241m.\u001b[39mitem()\u001b[38;5;241m*\u001b[39m\u001b[38;5;241m2\u001b[39m\u001b[38;5;241m+\u001b[39m\u001b[38;5;241m1e-5\u001b[39m)\u001b[38;5;241m/\u001b[39m(pre\u001b[38;5;241m.\u001b[39msum()\u001b[38;5;241m.\u001b[39mitem()\u001b[38;5;241m+\u001b[39mgd\u001b[38;5;241m.\u001b[39msum()\u001b[38;5;241m.\u001b[39mitem()\u001b[38;5;241m+\u001b[39m\u001b[38;5;241m1e-5\u001b[39m)\n\u001b[0;32m      3\u001b[0m     \u001b[38;5;28;01mreturn\u001b[39;00m dice\n",
      "\u001b[1;31mRuntimeError\u001b[0m: The size of tensor a (256) must match the size of tensor b (512) at non-singleton dimension 2"
     ]
    }
   ],
   "source": [
    "pre_path='C:/Users\\/VLADKONATA/Desktop/receive/seg'\n",
    "gd_path='C:/Users/VLADKONATA/Desktop/receive/label'\n",
    "files=os.listdir(pre_path)\n",
    "for file in files:\n",
    "    label=sitk.ReadImage(os.path.join(gd_path,file))\n",
    "    seg=sitk.ReadImage(os.path.join(pre_path,file))\n",
    "    label=sitk.GetArrayFromImage(label)\n",
    "    seg=sitk.GetArrayFromImage(seg)\n",
    "    gd=torch.from_numpy(label.astype(float))\n",
    "    pre=torch.from_numpy(seg.astype(float))\n",
    "    print(file,soft_dice(pre,gd))\n",
    "    "
   ]
  }
 ],
 "metadata": {
  "kernelspec": {
   "display_name": "TED_MRI",
   "language": "python",
   "name": "python3"
  },
  "language_info": {
   "codemirror_mode": {
    "name": "ipython",
    "version": 3
   },
   "file_extension": ".py",
   "mimetype": "text/x-python",
   "name": "python",
   "nbconvert_exporter": "python",
   "pygments_lexer": "ipython3",
   "version": "3.9.19"
  }
 },
 "nbformat": 4,
 "nbformat_minor": 2
}
