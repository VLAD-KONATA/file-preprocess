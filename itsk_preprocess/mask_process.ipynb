{
 "cells": [
  {
   "cell_type": "code",
   "execution_count": 1,
   "metadata": {},
   "outputs": [],
   "source": [
    "import SimpleITK as sitk\n",
    "import os\n",
    "import numpy\n",
    "baseDir=r'D:/data/w_label/'\n",
    "objDir=r'D:/data/w_label/'\n",
    "#mask=img_ori = sitk.Image(sitk.ReadImage(baseDir+'/Tissues.nii.gz'))\n",
    "#mask_arr=sitk.GetArrayFromImage(mask)\n"
   ]
  },
  {
   "cell_type": "code",
   "execution_count": 2,
   "metadata": {},
   "outputs": [
    {
     "name": "stdout",
     "output_type": "stream",
     "text": [
      "Breast_MRI_002 process complete\n",
      "Breast_MRI_006 process complete\n",
      "Breast_MRI_018 process complete\n",
      "Breast_MRI_021 process complete\n",
      "Breast_MRI_023 process complete\n",
      "Breast_MRI_025 process complete\n",
      "Breast_MRI_031 process complete\n",
      "Breast_MRI_054 process complete\n",
      "Breast_MRI_080 process complete\n",
      "Breast_MRI_087 process complete\n",
      "Breast_MRI_089 process complete\n",
      "Breast_MRI_105 process complete\n",
      "Breast_MRI_112 process complete\n",
      "Breast_MRI_124 process complete\n",
      "Breast_MRI_141 process complete\n",
      "Breast_MRI_143 process complete\n",
      "Breast_MRI_148 process complete\n",
      "Breast_MRI_166 process complete\n",
      "Breast_MRI_186 process complete\n",
      "Breast_MRI_204 process complete\n",
      "Breast_MRI_229 process complete\n",
      "Breast_MRI_230 process complete\n",
      "Breast_MRI_238 process complete\n",
      "Breast_MRI_272 process complete\n",
      "Breast_MRI_279 process complete\n",
      "Breast_MRI_280 process complete\n",
      "Breast_MRI_287 process complete\n",
      "Breast_MRI_290 process complete\n",
      "Breast_MRI_302 process complete\n",
      "Breast_MRI_320 process complete\n",
      "Breast_MRI_329 process complete\n",
      "Breast_MRI_334 process complete\n",
      "Breast_MRI_337 process complete\n",
      "Breast_MRI_338 process complete\n",
      "Breast_MRI_339 process complete\n",
      "Breast_MRI_354 process complete\n",
      "Breast_MRI_359 process complete\n",
      "Breast_MRI_363 process complete\n",
      "Breast_MRI_369 process complete\n",
      "Breast_MRI_370 process complete\n",
      "Breast_MRI_383 process complete\n",
      "Breast_MRI_392 process complete\n",
      "Breast_MRI_426 process complete\n",
      "Breast_MRI_435 process complete\n",
      "Breast_MRI_440 process complete\n",
      "Breast_MRI_464 process complete\n",
      "Breast_MRI_466 process complete\n",
      "Breast_MRI_489 process complete\n",
      "Breast_MRI_492 process complete\n",
      "Breast_MRI_495 process complete\n",
      "Breast_MRI_497 process complete\n",
      "Breast_MRI_501 process complete\n",
      "Breast_MRI_503 process complete\n",
      "Breast_MRI_525 process complete\n",
      "Breast_MRI_528 process complete\n",
      "Breast_MRI_529 process complete\n",
      "Breast_MRI_530 process complete\n",
      "Breast_MRI_553 process complete\n",
      "Breast_MRI_561 process complete\n",
      "Breast_MRI_562 process complete\n",
      "Breast_MRI_575 process complete\n",
      "Breast_MRI_587 process complete\n",
      "Breast_MRI_595 process complete\n",
      "Breast_MRI_602 process complete\n",
      "Breast_MRI_612 process complete\n",
      "Breast_MRI_616 process complete\n",
      "Breast_MRI_618 process complete\n",
      "Breast_MRI_636 process complete\n",
      "Breast_MRI_640 process complete\n",
      "Breast_MRI_652 process complete\n",
      "Breast_MRI_670 process complete\n",
      "Breast_MRI_686 process complete\n",
      "Breast_MRI_688 process complete\n",
      "Breast_MRI_693 process complete\n",
      "Breast_MRI_694 process complete\n",
      "Breast_MRI_705 process complete\n",
      "Breast_MRI_723 process complete\n",
      "Breast_MRI_726 process complete\n",
      "Breast_MRI_727 process complete\n",
      "Breast_MRI_741 process complete\n",
      "Breast_MRI_762 process complete\n",
      "Breast_MRI_773 process complete\n",
      "Breast_MRI_788 process complete\n",
      "Breast_MRI_797 process complete\n",
      "Breast_MRI_805 process complete\n",
      "Breast_MRI_819 process complete\n",
      "Breast_MRI_827 process complete\n",
      "Breast_MRI_832 process complete\n",
      "Breast_MRI_876 process complete\n",
      "Breast_MRI_902 process complete\n"
     ]
    }
   ],
   "source": [
    "masklist=os.listdir(baseDir)\n",
    "for maskname in masklist:\n",
    "    mask= sitk.Image(sitk.ReadImage(baseDir+maskname+'/Tissues.nii.gz'))\n",
    "    mask_arr=sitk.GetArrayFromImage(mask)\n",
    "    if(maskname=='Breast_MRI_087'):\n",
    "        mask_arr[mask_arr == 2] = 0\n",
    "    else:\n",
    "        mask_arr[mask_arr == 1] = 0\n",
    "        mask_arr[mask_arr == 2] = 1\n",
    "    img_itk = sitk.GetImageFromArray(mask_arr)\n",
    "    sitk.WriteImage(img_itk, objDir+maskname+'/Tissues.nii.gz')\n",
    "    print(maskname+\" process complete\")\n"
   ]
  },
  {
   "cell_type": "code",
   "execution_count": 18,
   "metadata": {},
   "outputs": [],
   "source": [
    "mask_arr[mask_arr == 1] = 0\n",
    "mask_arr[mask_arr == 2] = 1\n",
    "img_itk = sitk.GetImageFromArray(mask_arr)\n",
    "sitk.WriteImage(img_itk, objDir+'tissues.nii.gz')"
   ]
  },
  {
   "cell_type": "code",
   "execution_count": 14,
   "metadata": {},
   "outputs": [
    {
     "data": {
      "text/plain": [
       "473408"
      ]
     },
     "execution_count": 14,
     "metadata": {},
     "output_type": "execute_result"
    }
   ],
   "source": []
  }
 ],
 "metadata": {
  "kernelspec": {
   "display_name": "BPE-test",
   "language": "python",
   "name": "python3"
  },
  "language_info": {
   "codemirror_mode": {
    "name": "ipython",
    "version": 3
   },
   "file_extension": ".py",
   "mimetype": "text/x-python",
   "name": "python",
   "nbconvert_exporter": "python",
   "pygments_lexer": "ipython3",
   "version": "3.10.13"
  }
 },
 "nbformat": 4,
 "nbformat_minor": 2
}
