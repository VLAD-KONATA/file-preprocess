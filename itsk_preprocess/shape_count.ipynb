{
 "cells": [
  {
   "cell_type": "code",
   "execution_count": 5,
   "metadata": {},
   "outputs": [],
   "source": [
    "import os\n",
    "import numpy as np\n",
    "import nibabel as nib\n"
   ]
  },
  {
   "cell_type": "code",
   "execution_count": 6,
   "metadata": {},
   "outputs": [],
   "source": [
    "base='/home/konata/Dataset/TAO_CT/ztf_CT/origin50'"
   ]
  },
  {
   "cell_type": "code",
   "execution_count": 7,
   "metadata": {},
   "outputs": [],
   "source": [
    "files=os.listdir(base)\n",
    "shape=set()\n",
    "counts=[]\n",
    "for file in files:\n",
    "    img_path = os.path.join(base, file)\n",
    "    img = nib.load(img_path)  # 读取nii\n",
    "    shape.add(img.shape)\n"
   ]
  },
  {
   "cell_type": "code",
   "execution_count": 8,
   "metadata": {},
   "outputs": [
    {
     "data": {
      "text/plain": [
       "{(240, 150, 40),\n",
       " (240, 150, 43),\n",
       " (240, 150, 46),\n",
       " (240, 150, 47),\n",
       " (240, 150, 49),\n",
       " (240, 150, 50)}"
      ]
     },
     "execution_count": 8,
     "metadata": {},
     "output_type": "execute_result"
    }
   ],
   "source": [
    "shape"
   ]
  },
  {
   "cell_type": "code",
   "execution_count": 6,
   "metadata": {},
   "outputs": [
    {
     "name": "stdout",
     "output_type": "stream",
     "text": [
      "1 174 4 403 91\n"
     ]
    }
   ],
   "source": [
    "c288=c384=c528=c560=c640=0\n",
    "for file in files:\n",
    "    img_path = os.path.join(base, file)\n",
    "    img = nib.load(img_path)  # 读取nii\n",
    "    if img.shape[1]==288:\n",
    "        c288+=1\n",
    "    elif img.shape[1]==384:\n",
    "        c384+=1\n",
    "    elif img.shape[1]==528:\n",
    "        c528+=1\n",
    "    elif img.shape[1]==560:\n",
    "        c560+=1\n",
    "    else:\n",
    "        c640+=1\n",
    "print(c288,c384,c528,c560,c640)"
   ]
  }
 ],
 "metadata": {
  "kernelspec": {
   "display_name": "preprocess",
   "language": "python",
   "name": "python3"
  },
  "language_info": {
   "codemirror_mode": {
    "name": "ipython",
    "version": 3
   },
   "file_extension": ".py",
   "mimetype": "text/x-python",
   "name": "python",
   "nbconvert_exporter": "python",
   "pygments_lexer": "ipython3",
   "version": "3.9.19"
  },
  "orig_nbformat": 4
 },
 "nbformat": 4,
 "nbformat_minor": 2
}
