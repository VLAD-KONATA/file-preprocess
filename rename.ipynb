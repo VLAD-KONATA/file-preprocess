{
 "cells": [
  {
   "cell_type": "code",
   "execution_count": 1,
   "metadata": {},
   "outputs": [],
   "source": [
    "import os"
   ]
  },
  {
   "cell_type": "code",
   "execution_count": 2,
   "metadata": {},
   "outputs": [],
   "source": [
    "baseDir = os.path.normpath(r'E:/breastxxx/data/wo_label')\n",
    "folders=os.listdir(baseDir)\n",
    "name=['Breast.nii.gz','P0.nii.gz','P1_reg.nii.gz','Tissue_gt.nii.gz']"
   ]
  },
  {
   "cell_type": "code",
   "execution_count": 4,
   "metadata": {},
   "outputs": [],
   "source": [
    "for folder in folders:\n",
    "    files=os.listdir(baseDir+\"\\\\\"+folder)\n",
    "    for file in files:\n",
    "        os.chdir(baseDir+\"\\\\\"+folder)\n",
    "        if file==folder+\"_1st.nii.gz\":\n",
    "            os.rename(file,name[2])\n",
    "        elif file==folder+\"_pre.nii.gz\":\n",
    "            os.rename(file,name[1])\n",
    "        elif file==folder+\".nii.gz\":\n",
    "            os.rename(file,name[0])\n",
    "        elif file==\"Segmentation_\"+folder+\"_Breast.seg.nii.gz\":\n",
    "            os.rename(file,name[0])\n",
    "        elif file==\"Segmentation_\"+folder+\"_Dense_and_Vessels.seg.nii.gz\":\n",
    "            os.rename(file,name[3])\n",
    "            "
   ]
  },
  {
   "cell_type": "code",
   "execution_count": null,
   "metadata": {},
   "outputs": [],
   "source": []
  },
  {
   "cell_type": "code",
   "execution_count": 6,
   "metadata": {},
   "outputs": [
    {
     "data": {
      "text/plain": [
       "['Breast_MRI_902_1st.nii.gz',\n",
       " 'Breast_MRI_902_pre.nii.gz',\n",
       " 'Segmentation_Breast_MRI_902_Breast.seg.nii.gz',\n",
       " 'Segmentation_Breast_MRI_902_Dense_and_Vessels.seg.nii.gz']"
      ]
     },
     "execution_count": 6,
     "metadata": {},
     "output_type": "execute_result"
    }
   ],
   "source": [
    "files"
   ]
  }
 ],
 "metadata": {
  "kernelspec": {
   "display_name": "BPE-test",
   "language": "python",
   "name": "python3"
  },
  "language_info": {
   "codemirror_mode": {
    "name": "ipython",
    "version": 3
   },
   "file_extension": ".py",
   "mimetype": "text/x-python",
   "name": "python",
   "nbconvert_exporter": "python",
   "pygments_lexer": "ipython3",
   "version": "3.10.13"
  }
 },
 "nbformat": 4,
 "nbformat_minor": 2
}
