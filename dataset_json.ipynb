{
 "cells": [
  {
   "cell_type": "code",
   "execution_count": 2,
   "metadata": {},
   "outputs": [],
   "source": [
    "import glob\n",
    "import os\n",
    "import re\n",
    "import json\n",
    "from collections import OrderedDict\n"
   ]
  },
  {
   "cell_type": "code",
   "execution_count": 10,
   "metadata": {},
   "outputs": [],
   "source": [
    "baseDir = os.path.normpath(r'/home/konata/Dataset/nnUNet/DATASET/nnUNet_raw/Task01_TED')\n",
    "train_image=os.listdir(baseDir+'/imagesTr')\n",
    "test_image=os.listdir(baseDir+'/imagesTs')\n",
    "train_label=os.listdir(baseDir+'/labelsTr')\n",
    "test_label=os.listdir(baseDir+'/labelsTs')\n"
   ]
  },
  {
   "cell_type": "code",
   "execution_count": 11,
   "metadata": {},
   "outputs": [],
   "source": [
    "\n",
    "#####下面是创建json文件的内容\n",
    "#可以根据你的数据集，修改里面的描述\n",
    "json_dict = OrderedDict()\n",
    "json_dict['name'] = \"TED\"\n",
    "\n",
    "#这里填入模态信息，0表示只有一个模态，还可以加入“1”：“MRI”之类的描述，详情请参考官方源码给出的示例\n",
    "json_dict['modality'] = {\n",
    "    \"0\": \"CT\"\n",
    "}\n",
    "\n",
    "#这里为label文件中的多个标签，比如这里有血管、胆管、结石、肿块四个标签，名字可以按需要命名\n",
    "json_dict['labels'] = {\n",
    "    \"background\":0,\n",
    "    \"TED1\":1,\n",
    "    \"TED2\":2,\n",
    "    \"TED3\":3,\n",
    "    \"TED4\":4,\n",
    "    \"TED5\":5,\n",
    "    \"TED6\":6,\n",
    "    \"TED7\":7,\n",
    "    \"TED8\":8\n",
    "}\n",
    "\n",
    "#下面部分不需要修改>>>>>>\n",
    "json_dict['numTraining'] = len(train_image)\n",
    "json_dict['numTest'] = len(test_image)\n",
    "\n",
    "json_dict['training'] = []\n",
    "for idx in range(len(train_image)):\n",
    "    json_dict['training'].append({'image': \"./imagesTr/%s\" % train_image[idx], \"label\": \"./labelsTr/%s\" % train_label[idx]})\n",
    "\n",
    "json_dict['test'] = [\"./imagesTs/%s\" % i for i in test_image]\n",
    "\n",
    "with open(os.path.join(baseDir, \"dataset.json\"), 'w') as f:\n",
    "    json.dump(json_dict, f, indent=4, sort_keys=True)\n",
    "#<<<<<<<\n"
   ]
  },
  {
   "cell_type": "code",
   "execution_count": 17,
   "metadata": {},
   "outputs": [
    {
     "name": "stdout",
     "output_type": "stream",
     "text": [
      "splits_final.pkl has been created at: /home/konata/Dataset/nnUNet/DATASET/nnUNet_preprocessed/Task001_TED/splits_final.pkl\n"
     ]
    }
   ],
   "source": [
    "import os\n",
    "import pickle\n",
    "import numpy as np\n",
    "from sklearn.model_selection import train_test_split\n",
    "\n",
    "# 假设 imagesTr 目录下的文件名为 ['124_2019-4-12.nii.gz', '56_2019-4-12.nii.gz', ...]\n",
    "\n",
    "# 设置数据集路径\n",
    "for i in range(len(train_image)):\n",
    "    train_image[i]=train_image[i].split('.')[0]\n",
    "\n",
    "# 创建数据集划分\n",
    "train_files, val_files = train_test_split(train_image, test_size=0.2, random_state=42)\n",
    "\n",
    "# 创建 splits_final.pkl 文件内容\n",
    "splits = [{\n",
    "    'train': train_files,\n",
    "    'test': val_files\n",
    "}]\n",
    "\n",
    "# 保存 splits_final.pkl 文件\n",
    "output_path = '/home/konata/Dataset/nnUNet/DATASET/nnUNet_preprocessed/Task001_TED/splits_final.pkl'\n",
    "with open(output_path, 'wb') as f:\n",
    "    pickle.dump(splits, f)\n",
    "\n",
    "print(\"splits_final.pkl has been created at:\", output_path)"
   ]
  }
 ],
 "metadata": {
  "kernelspec": {
   "display_name": "BPE-test",
   "language": "python",
   "name": "python3"
  },
  "language_info": {
   "codemirror_mode": {
    "name": "ipython",
    "version": 3
   },
   "file_extension": ".py",
   "mimetype": "text/x-python",
   "name": "python",
   "nbconvert_exporter": "python",
   "pygments_lexer": "ipython3",
   "version": "3.9.19"
  }
 },
 "nbformat": 4,
 "nbformat_minor": 2
}
