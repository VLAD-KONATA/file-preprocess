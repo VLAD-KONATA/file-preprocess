{
 "cells": [
  {
   "cell_type": "code",
   "execution_count": 3,
   "metadata": {},
   "outputs": [],
   "source": [
    "import SimpleITK as sitk\n",
    "from glob import glob\n",
    "import os\n",
    "import gzip\n",
    "\n"
   ]
  },
  {
   "cell_type": "code",
   "execution_count": 46,
   "metadata": {},
   "outputs": [],
   "source": [
    "#nrrd2nii\n",
    "baseDir = os.path.normpath(r'E:/breastxxx/Duke-Breast-Cancer-MRI-Supplement-v3/Segmentation_Masks_NRRD/')\n",
    "objDir=baseDir[:-23]+\"Segmentation_Masks_NIFTI\"\n",
    "if not os.path.exists(objDir):\n",
    "    os.makedirs(objDir)\n",
    "folders=os.listdir(baseDir)\n",
    "for folder in folders:\n",
    "    if not os.path.exists(objDir+\"\\\\\"+folder):\n",
    "        os.makedirs(objDir+\"\\\\\"+folder)\n",
    "    files=glob(baseDir+\"\\\\\"+folder+'/*seg.nrrd')\n",
    "    for file in files:\n",
    "        img = sitk.ReadImage(file)\n",
    "        sitk.WriteImage(img, objDir+\"\\\\\"+file[74:-4]+\"nii.gz\")"
   ]
  },
  {
   "cell_type": "code",
   "execution_count": 8,
   "metadata": {},
   "outputs": [],
   "source": [
    "#nii2niigz\n",
    "trainDir=r'D:/data/BraTS2020/BraTS2020_TrainingData/MICCAI_BraTS2020_TrainingData/'\n",
    "testDir=r'D:/data/BraTS2020/BraTS2020_ValidationData/MICCAI_BraTS2020_ValidationData/'\n",
    "trainlist=os.listdir(trainDir)\n",
    "testlist=os.listdir(testDir)\n",
    "for folder in trainlist:\n",
    "    if 'slice0' in folder:\n",
    "        trainfiles=os.listdir(trainDir+folder)\n",
    "        for file in trainfiles:\n",
    "            os.chdir(trainDir+folder)\n",
    "            with open(file,'rb') as f_in:\n",
    "                with gzip.open(file.replace(\".nii\",\".nii.gz\"),'wb')as f_out:\n",
    "                    f_out.writelines(f_in)\n",
    "for folder in testlist:\n",
    "    if 'slice1' in folder:\n",
    "        testfiles=os.listdir(testDir+folder)\n",
    "        for file in testfiles:\n",
    "            os.chdir(testDir+folder)\n",
    "            with open(file,'rb') as f_in:\n",
    "                with gzip.open(file.replace(\".nii\",\".nii.gz\"),'wb')as f_out:\n",
    "                    f_out.writelines(f_in)"
   ]
  },
  {
   "cell_type": "code",
   "execution_count": 7,
   "metadata": {},
   "outputs": [],
   "source": []
  }
 ],
 "metadata": {
  "kernelspec": {
   "display_name": "BPE-test",
   "language": "python",
   "name": "python3"
  },
  "language_info": {
   "codemirror_mode": {
    "name": "ipython",
    "version": 3
   },
   "file_extension": ".py",
   "mimetype": "text/x-python",
   "name": "python",
   "nbconvert_exporter": "python",
   "pygments_lexer": "ipython3",
   "version": "3.10.13"
  }
 },
 "nbformat": 4,
 "nbformat_minor": 2
}
