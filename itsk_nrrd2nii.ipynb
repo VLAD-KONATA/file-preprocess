{
 "cells": [
  {
   "cell_type": "code",
   "execution_count": 38,
   "metadata": {},
   "outputs": [],
   "source": [
    "import SimpleITK as sitk\n",
    "from glob import glob\n",
    "import os\n",
    "\n"
   ]
  },
  {
   "cell_type": "code",
   "execution_count": 46,
   "metadata": {},
   "outputs": [],
   "source": [
    "baseDir = os.path.normpath(r'E:/breastxxx/Duke-Breast-Cancer-MRI-Supplement-v3/Segmentation_Masks_NRRD/')\n",
    "objDir=baseDir[:-23]+\"Segmentation_Masks_NIFTI\"\n",
    "if not os.path.exists(objDir):\n",
    "    os.makedirs(objDir)\n",
    "folders=os.listdir(baseDir)\n",
    "for folder in folders:\n",
    "    if not os.path.exists(objDir+\"\\\\\"+folder):\n",
    "        os.makedirs(objDir+\"\\\\\"+folder)\n",
    "    files=glob(baseDir+\"\\\\\"+folder+'/*seg.nrrd')\n",
    "    for file in files:\n",
    "        img = sitk.ReadImage(file)\n",
    "        sitk.WriteImage(img, objDir+\"\\\\\"+file[74:-4]+\"nii.gz\")"
   ]
  },
  {
   "cell_type": "code",
   "execution_count": 47,
   "metadata": {},
   "outputs": [
    {
     "data": {
      "text/plain": [
       "['E:\\\\breastxxx\\\\Duke-Breast-Cancer-MRI-Supplement-v3\\\\Segmentation_Masks_NRRD\\\\Breast_MRI_902\\\\Segmentation_Breast_MRI_902_Breast.seg.nrrd',\n",
       " 'E:\\\\breastxxx\\\\Duke-Breast-Cancer-MRI-Supplement-v3\\\\Segmentation_Masks_NRRD\\\\Breast_MRI_902\\\\Segmentation_Breast_MRI_902_Dense_and_Vessels.seg.nrrd']"
      ]
     },
     "execution_count": 47,
     "metadata": {},
     "output_type": "execute_result"
    }
   ],
   "source": [
    "files"
   ]
  },
  {
   "cell_type": "code",
   "execution_count": 36,
   "metadata": {},
   "outputs": [
    {
     "data": {
      "text/plain": [
       "'E:\\\\breastxxx\\\\Duke-Breast-Cancer-MRI-Supplement-v3\\\\Segmentation_Masks_NIFTI\\\\Breast_MRI_002\\\\Segmentation_Breast_MRI_002_Dense_and_Vessels.seg.nii.gz'"
      ]
     },
     "execution_count": 36,
     "metadata": {},
     "output_type": "execute_result"
    }
   ],
   "source": [
    "baseDir[:-23]+\"Segmentation_Masks_NIFTI\\\\\"+file[74:-4]+\"nii.gz\"\n"
   ]
  }
 ],
 "metadata": {
  "kernelspec": {
   "display_name": "BPE-test",
   "language": "python",
   "name": "python3"
  },
  "language_info": {
   "codemirror_mode": {
    "name": "ipython",
    "version": 3
   },
   "file_extension": ".py",
   "mimetype": "text/x-python",
   "name": "python",
   "nbconvert_exporter": "python",
   "pygments_lexer": "ipython3",
   "version": "3.10.13"
  }
 },
 "nbformat": 4,
 "nbformat_minor": 2
}
