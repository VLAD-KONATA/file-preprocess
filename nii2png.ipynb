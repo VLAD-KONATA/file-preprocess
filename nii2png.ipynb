{
 "cells": [
  {
   "cell_type": "code",
   "execution_count": null,
   "metadata": {},
   "outputs": [],
   "source": [
    "import os\n",
    "import nibabel as nib\n",
    "import imageio\n",
    "import numpy as np\n",
    "from tqdm import tqdm\n"
   ]
  },
  {
   "cell_type": "code",
   "execution_count": null,
   "metadata": {},
   "outputs": [],
   "source": [
    "def nii_to_image(filepath, imgfile):\n",
    "    filenames = os.listdir(filepath)  # 读取nii文件夹\n",
    "    with tqdm(total = len(filenames)) as pbar:\n",
    "        for f in filenames:\n",
    "            if f[-7:] != \".nii.gz\":\n",
    "                continue\n",
    "            img_path = os.path.join(filepath, f)\n",
    "            img = nib.load(img_path)  # 读取nii\n",
    "            img_fdata = img.get_fdata(dtype=np.float32)  # 读取为float32\n",
    "            fname = f.replace('.nii.gz', '')  # 去掉nii的后缀名\n",
    "            img_f_path = os.path.join(imgfile, fname)\n",
    "            # 创建nii对应的图像的文件夹\n",
    "            if not os.path.exists(img_f_path):\n",
    "                os.mkdir(img_f_path)  # 新建文件夹\n",
    " \n",
    "            # 将归一化的浮点数数据转换为8位整数数据\n",
    "            img_fdata = (img_fdata * 255).astype(np.uint8)\n",
    " \n",
    "            # 开始转换为图像\n",
    "            (x, y, z) = img.shape\n",
    "            for i in range(z):  # z是图像的序列\n",
    "                slice = img_fdata[:, :, i]  # 选择哪个方向的切片都可以\n",
    "                # 保存图像，使用PNG格式\n",
    "                imageio.imwrite(os.path.join(img_f_path, '{}.png'.format(i)), slice)\n",
    "            pbar.update(1)\n",
    " \n",
    "file_name = r\"D:/data/TAO_MRI/T2/mask/seg_cut\"\n",
    "img_path = r\"D:/data/TAO_MRI/T2/mask/seg_slice\"\n",
    "nii_to_image(file_name, img_path)"
   ]
  }
 ],
 "metadata": {
  "kernelspec": {
   "display_name": "Python 3",
   "language": "python",
   "name": "python3"
  },
  "language_info": {
   "name": "python",
   "version": "3.9.19"
  }
 },
 "nbformat": 4,
 "nbformat_minor": 2
}
