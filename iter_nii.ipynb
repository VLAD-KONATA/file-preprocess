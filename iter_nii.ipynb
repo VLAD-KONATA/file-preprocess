{
 "cells": [
  {
   "cell_type": "code",
   "execution_count": 1,
   "metadata": {},
   "outputs": [],
   "source": [
    "import SimpleITK as sitk\n",
    "import os"
   ]
  },
  {
   "cell_type": "code",
   "execution_count": 2,
   "metadata": {},
   "outputs": [],
   "source": [
    "path=\"/home/konata/Dataset/CQformer/Task02_Heart/train/img\"\n",
    "files=os.listdir(path)\n",
    "shapes=set()"
   ]
  },
  {
   "cell_type": "code",
   "execution_count": 3,
   "metadata": {},
   "outputs": [],
   "source": [
    "for file in files:\n",
    "    image=sitk.ReadImage(os.path.join(path,file))\n",
    "    imgshape=sitk.GetArrayFromImage(image).shape\n",
    "    shapes.add(imgshape)"
   ]
  },
  {
   "cell_type": "code",
   "execution_count": 4,
   "metadata": {},
   "outputs": [
    {
     "data": {
      "text/plain": [
       "{(90, 320, 320),\n",
       " (100, 320, 320),\n",
       " (110, 320, 320),\n",
       " (120, 320, 320),\n",
       " (122, 320, 320),\n",
       " (130, 320, 320)}"
      ]
     },
     "execution_count": 4,
     "metadata": {},
     "output_type": "execute_result"
    }
   ],
   "source": [
    "shapes"
   ]
  }
 ],
 "metadata": {
  "kernelspec": {
   "display_name": "TED_MRI",
   "language": "python",
   "name": "python3"
  },
  "language_info": {
   "codemirror_mode": {
    "name": "ipython",
    "version": 3
   },
   "file_extension": ".py",
   "mimetype": "text/x-python",
   "name": "python",
   "nbconvert_exporter": "python",
   "pygments_lexer": "ipython3",
   "version": "3.9.19"
  },
  "orig_nbformat": 4
 },
 "nbformat": 4,
 "nbformat_minor": 2
}
