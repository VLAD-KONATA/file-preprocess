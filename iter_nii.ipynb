{
 "cells": [
  {
   "cell_type": "code",
   "execution_count": 1,
   "metadata": {},
   "outputs": [],
   "source": [
    "import SimpleITK as sitk\n",
    "import os"
   ]
  },
  {
   "cell_type": "code",
   "execution_count": 2,
   "metadata": {},
   "outputs": [],
   "source": [
    "path=\"/home/konata/Dataset/CQformer/Task02_Heart/train/img\"\n",
    "files=os.listdir(path)\n",
    "shapes=set()"
   ]
  },
  {
   "cell_type": "code",
   "execution_count": 3,
   "metadata": {},
   "outputs": [],
   "source": [
    "for file in files:\n",
    "    image=sitk.ReadImage(os.path.join(path,file))\n",
    "    imgshape=sitk.GetArrayFromImage(image).shape\n",
    "    shapes.add(imgshape)"
   ]
  },
  {
   "cell_type": "code",
   "execution_count": null,
   "metadata": {},
   "outputs": [],
   "source": [
    "import os\n",
    "import nibabel as nib\n",
    "maxv=set()\n",
    "path='/home/konata/Dataset/IXI-T2/origin/imagesTs'\n",
    "files=os.listdir(path)\n",
    "for file in files:\n",
    "    # 加载NIfTI文件\n",
    "    img = nib.load(os.path.join(path,file))  # 或 'your_file.nii.gz'\n",
    "    data = img.get_fdata()\n",
    "\n",
    "    # 计算值范围\n",
    "    min_val = data.min()\n",
    "    max_val = data.max()\n",
    "    maxv.add(max_val)\n",
    "    print(f\"图像值范围: [{min_val}, {max_val}]\")"
   ]
  },
  {
   "cell_type": "code",
   "execution_count": null,
   "metadata": {},
   "outputs": [
    {
     "data": {
      "text/plain": [
       "{551.0,\n",
       " 658.0,\n",
       " 700.0,\n",
       " 706.0,\n",
       " 749.0,\n",
       " 752.0,\n",
       " 775.0,\n",
       " 821.0,\n",
       " 968.0,\n",
       " 1156.0,\n",
       " 1267.0,\n",
       " 1272.0,\n",
       " 1518.0,\n",
       " 1708.38330078125,\n",
       " 1709.4735107421875,\n",
       " 1741.7391357421875,\n",
       " 1755.5052490234375,\n",
       " 1777.5823974609375,\n",
       " 1793.32666015625,\n",
       " 1810.1944580078125,\n",
       " 1894.340087890625,\n",
       " 1982.984130859375,\n",
       " 1992.4351806640625,\n",
       " 1997.135498046875,\n",
       " 2025.6734619140625,\n",
       " 2062.547119140625,\n",
       " 2073.77587890625,\n",
       " 2082.311279296875,\n",
       " 2084.7294921875,\n",
       " 2088.39013671875,\n",
       " 2101.682861328125,\n",
       " 2109.51611328125,\n",
       " 2125.581787109375,\n",
       " 2128.643798828125,\n",
       " 2128.72998046875,\n",
       " 2130.85888671875,\n",
       " 2131.55517578125,\n",
       " 2135.236083984375,\n",
       " 2141.65576171875,\n",
       " 2145.18115234375,\n",
       " 2145.58935546875,\n",
       " 2149.603271484375,\n",
       " 2154.16064453125,\n",
       " 2154.493408203125,\n",
       " 2164.89892578125,\n",
       " 2167.12548828125,\n",
       " 2176.755615234375,\n",
       " 2180.3720703125,\n",
       " 2184.0244140625,\n",
       " 2189.460205078125,\n",
       " 2189.6259765625,\n",
       " 2190.348388671875,\n",
       " 2191.291748046875,\n",
       " 2191.568359375,\n",
       " 2198.2333984375,\n",
       " 2200.330078125,\n",
       " 2204.24365234375,\n",
       " 2205.083740234375,\n",
       " 2208.2958984375,\n",
       " 2210.943603515625,\n",
       " 2218.534912109375,\n",
       " 2220.136474609375,\n",
       " 2222.416748046875,\n",
       " 2234.095458984375,\n",
       " 2264.10009765625,\n",
       " 2272.0,\n",
       " 2274.39208984375,\n",
       " 2279.866455078125,\n",
       " 2280.852294921875,\n",
       " 2297.7080078125,\n",
       " 2319.384033203125,\n",
       " 2325.123046875,\n",
       " 2343.309814453125,\n",
       " 2357.570556640625,\n",
       " 2419.69091796875,\n",
       " 2493.30224609375,\n",
       " 2512.69091796875,\n",
       " 2630.997802734375,\n",
       " 2634.480224609375,\n",
       " 2825.469970703125,\n",
       " 2928.47705078125,\n",
       " 3634.0}"
      ]
     },
     "execution_count": 5,
     "metadata": {},
     "output_type": "execute_result"
    }
   ],
   "source": [
    "max(maxv)"
   ]
  }
 ],
 "metadata": {
  "kernelspec": {
   "display_name": "TED_MRI",
   "language": "python",
   "name": "python3"
  },
  "language_info": {
   "codemirror_mode": {
    "name": "ipython",
    "version": 3
   },
   "file_extension": ".py",
   "mimetype": "text/x-python",
   "name": "python",
   "nbconvert_exporter": "python",
   "pygments_lexer": "ipython3",
   "version": "3.9.19"
  },
  "orig_nbformat": 4
 },
 "nbformat": 4,
 "nbformat_minor": 2
}
