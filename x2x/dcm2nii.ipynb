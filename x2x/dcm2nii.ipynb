{
 "cells": [
  {
   "cell_type": "code",
   "execution_count": null,
   "metadata": {},
   "outputs": [],
   "source": [
    "import numpy as np\n",
    "import shutil\n",
    "import os\n",
    "import SimpleITK as sitk\n",
    "\n",
    "def dcm2nii_sitk(path_read, path_save):\n",
    "    reader = sitk.ImageSeriesReader()\n",
    "    seriesIDs = reader.GetGDCMSeriesIDs(path_read)\n",
    "    N = len(seriesIDs)\n",
    "    lens = np.zeros([N])\n",
    "    for i in range(N):\n",
    "        dicom_names = reader.GetGDCMSeriesFileNames(path_read, seriesIDs[i])\n",
    "        lens[i] = len(dicom_names)\n",
    "    N_MAX = np.argmax(lens)\n",
    "    dicom_names = reader.GetGDCMSeriesFileNames(path_read, seriesIDs[N_MAX])\n",
    "    reader.SetFileNames(dicom_names)\n",
    "    image = reader.Execute()\n",
    "    if not os.path.exists(path_save):\n",
    "        os.mkdir(path_save)\n",
    "    sitk.WriteImage(image, path_save+'/data.nii.gz')\n",
    "\n",
    "DICOMpath = r\"F:\\Dicomdataset\"   #dicom文件夹路径\n",
    "Midpath = r\"F:\\middataset\"   #处理中间数据路径\n",
    "Resultpath = r\"F:\\result\"    #保存路径\n",
    "cases = os.listdir(DICOMpath)  #获取dicom文件夹路径子文件夹名\n",
    "for c in cases:  #遍历dicom文件夹路径子文件\n",
    "    path_mid = os.path.join(DICOMpath , c)  #获取dicom文件夹下每一套数据的路径\n",
    "    dcm2nii_sitk(path_mid , Midpath )  #将dicom转换为nii，并保存在Midpath中\n",
    "    shutil.copy(os.path.join(Midpath , \"data.nii.gz\"), os.path.join(Resultpath , c + \".nii.gz\"))\n",
    "    #重新对保存后的nii文件名进行命名，并复制到Resultpath下\n"
   ]
  }
 ],
 "metadata": {
  "kernelspec": {
   "display_name": "TED_MRI",
   "language": "python",
   "name": "python3"
  },
  "language_info": {
   "name": "python",
   "version": "3.9.19"
  }
 },
 "nbformat": 4,
 "nbformat_minor": 2
}
