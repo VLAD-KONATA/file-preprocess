{
 "cells": [
  {
   "cell_type": "code",
   "execution_count": 1,
   "metadata": {},
   "outputs": [],
   "source": [
    "import SimpleITK as sitk\n",
    "import glob\n",
    "import numpy as np\n",
    "from PIL import Image\n",
    "import cv2\n",
    " \n",
    "import matplotlib.pyplot as plt # plt 用于显示图片\n",
    " \n"
   ]
  },
  {
   "cell_type": "code",
   "execution_count": null,
   "metadata": {},
   "outputs": [],
   "source": [
    "def save_array_as_nii_volume(data, filename, reference_name = None):\n",
    "    \"\"\"\n",
    "    save a numpy array as nifty image\n",
    "    inputs:\n",
    "        data: a numpy array with shape [Depth, Height, Width]\n",
    "        filename: the ouput file name\n",
    "        reference_name: file name of the reference image of which affine and header are used\n",
    "    outputs: None\n",
    "    \"\"\"\n",
    "    img = sitk.GetImageFromArray(data)\n",
    "    if(reference_name is not None):\n",
    "        img_ref = sitk.ReadImage(reference_name)\n",
    "        img.CopyInformation(img_ref)\n",
    "    sitk.WriteImage(img, filename)\n",
    " \n",
    " "
   ]
  },
  {
   "cell_type": "code",
   "execution_count": null,
   "metadata": {},
   "outputs": [],
   "source": [
    "\n",
    "image_path = './oriCvLab/testCvlab/img/'\n",
    "image_arr = glob.glob(str(image_path) + str(\"/*\"))\n",
    "image_arr.sort()\n",
    " \n",
    "print(image_arr, len(image_arr))\n",
    "allImg = []\n",
    "allImg = np.zeros([165, 768,1024], dtype='uint8')\n",
    "for i in range(len(image_arr)):\n",
    "    single_image_name = image_arr[i]\n",
    "    img_as_img = Image.open(single_image_name)\n",
    "    # img_as_img.show()\n",
    "    img_as_np = np.asarray(img_as_img)\n",
    "    allImg[i, :, :] = img_as_np\n",
    " \n",
    " \n",
    "# np.transpose(allImg,[2,0,1])\n",
    "save_array_as_nii_volume(allImg, './testImg.nii.gz')\n",
    "print(np.shape(allImg))\n",
    "img = allImg[:, :, 55]\n",
    "# plt.imshow(img, cmap='gray')\n",
    "# plt.show()"
   ]
  }
 ],
 "metadata": {
  "kernelspec": {
   "display_name": "TED_MRI",
   "language": "python",
   "name": "python3"
  },
  "language_info": {
   "codemirror_mode": {
    "name": "ipython",
    "version": 3
   },
   "file_extension": ".py",
   "mimetype": "text/x-python",
   "name": "python",
   "nbconvert_exporter": "python",
   "pygments_lexer": "ipython3",
   "version": "3.9.19"
  }
 },
 "nbformat": 4,
 "nbformat_minor": 2
}
