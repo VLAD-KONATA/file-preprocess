{
 "cells": [
  {
   "cell_type": "code",
   "execution_count": 17,
   "metadata": {},
   "outputs": [],
   "source": [
    "import pandas as pd\n",
    " \n",
    "# 读取JSON文件\n",
    "with open('/home/konata/Dataset/TED_MRI/T2/mask/seg_unique9.json', 'r') as file:\n",
    "    data = pd.read_json(file).T\n",
    "\n",
    "data=data.drop(0,axis=1)\n",
    "data=data.drop(1,axis=1)\n",
    "data['id']=data.index\n",
    "data=data.reset_index(drop=True)\n",
    "data.to_csv('data.csv', index=False)\n"
   ]
  },
  {
   "cell_type": "code",
   "execution_count": 23,
   "metadata": {},
   "outputs": [],
   "source": [
    "import pandas as pd\n",
    "import os\n",
    "\n",
    "path='/home/konata/Dataset/TED_MRI/T2/mask/seg_slice/'\n",
    "files=os.listdir(path)\n",
    "#list\n",
    "data=pd.DataFrame(files)\n",
    "\n",
    "\n",
    "data['id']=data[0]\n",
    "data=data.drop(0,axis=1)\n",
    "data['index']=data['id'].str.extract(r'(\\d+)').astype(int)\n",
    "data=data.sort_values(by='index')\n",
    "data=data.drop('index',axis=1)\n",
    "data=data.reset_index(drop=True)\n",
    "\n",
    "data\n",
    "data.to_csv('/home/konata/Dataset/TED_MRI/T2seg_unique9.csv', index=False)\n",
    "\n",
    "\n"
   ]
  },
  {
   "cell_type": "code",
   "execution_count": null,
   "metadata": {},
   "outputs": [],
   "source": [
    "import pandas as pd\n",
    "import openpyxl\n",
    "\n",
    "# 读取JSON文件\n",
    "with open('data.json', 'r', encoding = 'UTF-8') as file:\n",
    "    data = pd.read_json(file)\n",
    "\n",
    "data.to_excel('data.xlsx', index=False, engine='openpyxl')"
   ]
  },
  {
   "cell_type": "code",
   "execution_count": null,
   "metadata": {},
   "outputs": [],
   "source": [
    "sheet_path=r'/home/konata/Dataset/TED_MRI/T2(2d_unique9).csv'\n",
    "sheet=pd.read_csv(sheet_path)\n",
    "sheet"
   ]
  }
 ],
 "metadata": {
  "kernelspec": {
   "display_name": "preprocess",
   "language": "python",
   "name": "python3"
  },
  "language_info": {
   "codemirror_mode": {
    "name": "ipython",
    "version": 3
   },
   "file_extension": ".py",
   "mimetype": "text/x-python",
   "name": "python",
   "nbconvert_exporter": "python",
   "pygments_lexer": "ipython3",
   "version": "3.9.19"
  },
  "orig_nbformat": 4
 },
 "nbformat": 4,
 "nbformat_minor": 2
}
