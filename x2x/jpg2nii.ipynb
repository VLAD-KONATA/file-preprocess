{
 "cells": [
  {
   "cell_type": "code",
   "execution_count": 16,
   "metadata": {},
   "outputs": [],
   "source": [
    "import os\n",
    "import numpy as np\n",
    "from PIL import Image\n",
    "import SimpleITK as sitk\n",
    "from skimage import img_as_float  # 用于确保图像数据类型一致\n",
    "from pathlib import Path\n"
   ]
  },
  {
   "cell_type": "code",
   "execution_count": 38,
   "metadata": {},
   "outputs": [],
   "source": [
    "\n",
    "def png2nii(input,output,name):\n",
    "    # 获取所有jpg文件列表\n",
    "    image_files = sorted([os.path.join(input, f) for f in os.listdir(input) if f.endswith('.jpg')])\n",
    "    #image_files.sort(key=lambda x:int(x.split('_out.png')[0].split('/')[-1]))\n",
    "\n",
    "    # 初始化一个空的3D数组来存放所有的图像数据\n",
    "    # 假设所有图片都是512x512大小\n",
    "    image_shape =Image.open(image_files[0]) .size\n",
    "    data_3d = np.zeros( (image_shape[1],len(image_files),image_shape[0] ), dtype=np.float32)\n",
    "\n",
    "    # 逐个读取JPG文件并填充到3D数组中\n",
    "    for idx, image_file in enumerate(image_files):\n",
    "        img = Image.open(image_file).convert('L')  # 转换为灰度图\n",
    "        img_array = np.array(img)\n",
    "        img_array=np.rot90(img_array)\n",
    "        img_array=np.rot90(img_array)\n",
    "        img_array=np.flip(img_array,axis=1)\n",
    "\n",
    "        # 确保所有图像数据具有相同的数据类型和范围\n",
    "        img_array = img_as_float(img_array)\n",
    "        \n",
    "        data_3d[ :,len(image_files)-1-idx ] = img_array\n",
    "        #data_3d=np.flip(data_3d,axis=2)\n",
    "\n",
    "    # 创建NIfTI图像对象\n",
    "\n",
    "    spacing=(0.9375,0.9375,1.25)\n",
    "    #samp=sitk.ReadImage(os.path.join('/home/konata/Dataset/I3Net/imagesTs/IXI013-HH-1212-T2.nii.gz'))\n",
    "    #spacing=(3.85/16,0.3125,0.3125/4)\n",
    "    #origin spacing(0.3125,0.3125,3.85)-TEDMRI-T2(512,512,20)\n",
    "    #samp=sitk.ReadImage(os.path.join('/home/konata/Dataset/TED_MRI/T2/mask/origin',name))\n",
    "    #samp=sitk.ReadImage(os.path.join('/home/konata/Dataset/TED_MRI/TOM500/all_image',name))\n",
    "    \n",
    "    # spacing=(0.5566,0.5566,1/4)\n",
    "    #origin spacing(0.5566,0.5566,1)-TAOCT(240,150,50)\n",
    "    #samp=sitk.ReadImage(os.path.join('/home/konata/Dataset/I3Net/CT/test/',name))\n",
    "    \n",
    "    #spacing=(0.4167,0.4167,3.3)\n",
    "    #origin spacing(0.4167,0.4167,3.3)-T1_cut(240,150,50)\n",
    "    #samp=sitk.ReadImage(os.path.join('/home/konata/Dataset/I3Net/CT/test/',name))\n",
    "    name='IXI554-Guys-1068-T2.nii.gz'\n",
    "    samp=sitk.ReadImage(os.path.join('/home/konata/Dataset/I3Net/imagesTs/',name))\n",
    "    samp=sitk.Image(samp)\n",
    "    outs = sitk.GetImageFromArray(data_3d)\n",
    "    outs.SetDirection(samp.GetDirection())\n",
    "    outs.SetOrigin(samp.GetOrigin())\n",
    "    outs.SetSpacing(spacing)\n",
    "    sitk.WriteImage(outs,output) #输出图像\n",
    "\n",
    "\n",
    "    print(f\"Saved NIfTI file to {output}\")\n"
   ]
  },
  {
   "cell_type": "code",
   "execution_count": 39,
   "metadata": {},
   "outputs": [
    {
     "name": "stdout",
     "output_type": "stream",
     "text": [
      "Saved NIfTI file to /home/konata/Dataset/I3Net/d2_slicex2_2025_03_02_21_30_09/esrgan_nii/1.nii.gz\n"
     ]
    }
   ],
   "source": [
    "\n",
    "if __name__=='__main__':\n",
    "    # 定义输入和输出路径\n",
    "    #input_dir = '/home/konata/Dataset/I3Net/RIFE_test/IXI012-HH-1211-T2_fpsx2'  # 替换为你的jpg文件所在目录\n",
    "    #output_file = '/home/konata/Dataset/I3Net/RIFE_test/test.nii.gz'  # 输出的nii.gz文件名\n",
    "    #input_dir = '/home/konata/Dataset/TED_MRI/T2/mask/origin_slice/RIFE_test_fpsx4'  # 替换为你的jpg文件所在目录\n",
    "    #output_dir = '/home/konata/Dataset/TED_MRI/T2/mask/origin_slice/RIFE_test_nii_fpsx4/'  # 输出的nii.gz文件名\n",
    "    #input_dir = '/home/konata/Dataset/I3Net/CT/test_fpsx4/RIFE_test_fpsx4'  # 替换为你的jpg文件所在目录\n",
    "    #output_dir = '/home/konata/Dataset/I3Net/CT/test_fpsx4/RIFE_test_nii_fpsx4/'  # 输出的nii.gz文件名\n",
    "    #input_dir = '/home/konata/Dataset/TED_MRI/TOM500/test_fpsx4_2025_01_16_16_58_21/RIFE_test_fpsx4'  # 替换为你的jpg文件所在目录\n",
    "    #output_dir = '/home/konata/Dataset/TED_MRI/TOM500/test_fpsx4_2025_01_16_16_58_21/RIFE_test_nii_fpsx4/'  # 输出的nii.gz文件名\n",
    "    #input_dir = '/home/konata/Dataset/TED_MRI/TOM500/test_fpsx2_2025_01_06_23_26_55/RIFE_test_fpsx2'  # 替换为你的jpg文件所在目录\n",
    "    #output_dir = '/home/konata/Dataset/TED_MRI/TOM500/test_fpsx2_2025_01_06_23_26_55/RIFE_test_nii_fpsx2/'  # 输出的nii.gz文件名\n",
    "    input_dir = '/home/konata/Dataset/TED_MRI/T2/mask/origin_slice/test_fpsx4_2025_01_06_23_26_55/RIFE_test_fpsx4'  # 替换为你的jpg文件所在目录\n",
    "    output_dir = '/home/konata/Dataset/TED_MRI/T2/mask/origin_slice/test_fpsx4_2025_01_06_23_26_55/RIFE_test_nii_fpsx4/'  # 输出的nii.gz文件名\n",
    "    input_dir = '/home/konata/Dataset/I3Net/d2_slicex2_2025_03_02_21_30_09/esrgan'  # 替换为你的jpg文件所在目录\n",
    "    output_dir = '/home/konata/Dataset/I3Net/d2_slicex2_2025_03_02_21_30_09/esrgan_nii'  # 输出的nii.gz文件名\n",
    "    \n",
    "\n",
    "    Path(output_dir).mkdir(exist_ok=True, parents=True)\n",
    "    folders=os.listdir(input_dir)\n",
    "    for folder in folders:\n",
    "        name=folder+'.nii.gz'\n",
    "        #name=folder.split('_fps')[0]+'.nii.gz'\n",
    "        png2nii(os.path.join(input_dir,folder),os.path.join(output_dir,name),name)\n"
   ]
  }
 ],
 "metadata": {
  "kernelspec": {
   "display_name": "TED_MRI",
   "language": "python",
   "name": "python3"
  },
  "language_info": {
   "codemirror_mode": {
    "name": "ipython",
    "version": 3
   },
   "file_extension": ".py",
   "mimetype": "text/x-python",
   "name": "python",
   "nbconvert_exporter": "python",
   "pygments_lexer": "ipython3",
   "version": "3.9.19"
  }
 },
 "nbformat": 4,
 "nbformat_minor": 2
}
