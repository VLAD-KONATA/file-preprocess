{
 "cells": [
  {
   "cell_type": "code",
   "execution_count": 1,
   "metadata": {},
   "outputs": [],
   "source": [
    "import os\n",
    "import nibabel as nib\n",
    "import imageio\n",
    "import numpy as np\n",
    "from tqdm import tqdm\n"
   ]
  },
  {
   "cell_type": "code",
   "execution_count": 2,
   "metadata": {},
   "outputs": [],
   "source": [
    "def nii_to_image(baseDir,objDir):\n",
    "    files = os.listdir(baseDir)  # 读取nii文件夹\n",
    "    with tqdm(total = len(files)) as pbar:\n",
    "        for file in files:\n",
    "            if  \".nii.gz\" not in file:\n",
    "                continue\n",
    "            img_path = os.path.join(baseDir, file)\n",
    "            img = nib.load(img_path)  # 读取nii\n",
    "            img_fdata = img.get_fdata(dtype=np.float32)  # 读取为float32\n",
    "            img_fdata = np.rot90(img_fdata)\n",
    "            img_fdata = (img_fdata * 255).astype(np.uint8)\n",
    "            fname = file.replace('.nii.gz', '')  # 去掉nii的后缀名\n",
    "            img_f_path = os.path.join(objDir, fname)\n",
    "            # 创建nii对应的图像的文件夹\n",
    "            if not os.path.exists(img_f_path):\n",
    "                os.mkdir(img_f_path)  # 新建文件夹\n",
    "            \n",
    "            # 将归一化的浮点数数据转换为8位整数数据\n",
    " \n",
    "            # 开始转换为图像\n",
    "            (x, y, z) = img.shape\n",
    "            for i in range(z):  # z是图像的序列\n",
    "                slice = img_fdata[:, :, i]  # 选择哪个方向的切片都可以\n",
    "                # 保存图像，使用PNG格式\n",
    "                imageio.imwrite(os.path.join(img_f_path, '{}.png'.format(i)), slice)\n",
    "            pbar.update(1)\n",
    " \n"
   ]
  },
  {
   "attachments": {},
   "cell_type": "markdown",
   "metadata": {},
   "source": [
    "def normalize(slice):\n",
    "    \"\"\"Normalize the image slice to [0, 255]\"\"\"\n",
    "    min_val = np.min(slice)\n",
    "    max_val = np.max(slice)\n",
    "    if max_val - min_val > 0:\n",
    "        return ((slice - min_val) / (max_val - min_val) * 255).astype(np.uint8)\n",
    "    else:\n",
    "        return np.zeros_like(slice, dtype=np.uint8)"
   ]
  },
  {
   "cell_type": "code",
   "execution_count": 3,
   "metadata": {},
   "outputs": [
    {
     "name": "stderr",
     "output_type": "stream",
     "text": [
      "100%|██████████| 126/126 [00:19<00:00,  6.51it/s]\n"
     ]
    }
   ],
   "source": [
    "baseDir = r\"/home/konata/Dataset/TED_MRI/T2/mask/origin/\"\n",
    "objDir= r\"/home/konata/Dataset/TED_MRI/T2/mask/origin_slice/TED_png/\"\n",
    "if not os.path.exists(objDir):\n",
    "    os.mkdir(objDir)  # 新建文件夹\n",
    "nii_to_image(baseDir,objDir)"
   ]
  }
 ],
 "metadata": {
  "kernelspec": {
   "display_name": "Python 3",
   "language": "python",
   "name": "python3"
  },
  "language_info": {
   "codemirror_mode": {
    "name": "ipython",
    "version": 3
   },
   "file_extension": ".py",
   "mimetype": "text/x-python",
   "name": "python",
   "nbconvert_exporter": "python",
   "pygments_lexer": "ipython3",
   "version": "3.9.19"
  }
 },
 "nbformat": 4,
 "nbformat_minor": 2
}
