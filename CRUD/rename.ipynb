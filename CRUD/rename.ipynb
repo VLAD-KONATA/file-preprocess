{
 "cells": [
  {
   "cell_type": "code",
   "execution_count": 1,
   "metadata": {},
   "outputs": [],
   "source": [
    "import os"
   ]
  },
  {
   "cell_type": "code",
   "execution_count": 4,
   "metadata": {},
   "outputs": [],
   "source": [
    "baseDir=r'/home/konata/Dataset/IXI-T2/CATANet/val_multiscale'\n",
    "files=os.listdir(baseDir)"
   ]
  },
  {
   "cell_type": "code",
   "execution_count": 5,
   "metadata": {},
   "outputs": [],
   "source": [
    "for file in files:\n",
    "    fname=file.split('T0')[0]+'.png'\n",
    "    #print(fname)\n",
    "    os.rename(os.path.join(baseDir,file),os.path.join(baseDir,fname))\n",
    "            "
   ]
  },
  {
   "cell_type": "code",
   "execution_count": 6,
   "metadata": {},
   "outputs": [],
   "source": [
    "baseDir = os.path.normpath(r'/home/konata/Dataset/nnUNet/DATASET/nnUNet_raw/Task01_TED/seg_cut')\n",
    "files=os.listdir(baseDir)\n",
    "def comp(file):\n",
    "    return int(file.split('_')[0])\n",
    "\n",
    "files=sorted(files,key=comp)"
   ]
  },
  {
   "cell_type": "code",
   "execution_count": 7,
   "metadata": {},
   "outputs": [],
   "source": [
    "i=1\n",
    "def plus0(i):\n",
    "    if i/10<1:\n",
    "        return '000'+str(i)\n",
    "    elif 1<=i/10<10:\n",
    "        return '00'+str(i)\n",
    "    if 10<=i/10<100:\n",
    "        return '0'+str(i)\n",
    "    else:\n",
    "        return str(i)\n",
    "for file in files:\n",
    "    os.rename(baseDir+'/'+file,baseDir+'/TED_'+plus0(i)+'.nii.gz')\n",
    "    i+=1"
   ]
  },
  {
   "cell_type": "code",
   "execution_count": 6,
   "metadata": {},
   "outputs": [
    {
     "data": {
      "text/plain": [
       "['Breast_MRI_902_1st.nii.gz',\n",
       " 'Breast_MRI_902_pre.nii.gz',\n",
       " 'Segmentation_Breast_MRI_902_Breast.seg.nii.gz',\n",
       " 'Segmentation_Breast_MRI_902_Dense_and_Vessels.seg.nii.gz']"
      ]
     },
     "execution_count": 6,
     "metadata": {},
     "output_type": "execute_result"
    }
   ],
   "source": [
    "files"
   ]
  }
 ],
 "metadata": {
  "kernelspec": {
   "display_name": "BPE-test",
   "language": "python",
   "name": "python3"
  },
  "language_info": {
   "codemirror_mode": {
    "name": "ipython",
    "version": 3
   },
   "file_extension": ".py",
   "mimetype": "text/x-python",
   "name": "python",
   "nbconvert_exporter": "python",
   "pygments_lexer": "ipython3",
   "version": "3.9.19"
  }
 },
 "nbformat": 4,
 "nbformat_minor": 2
}
