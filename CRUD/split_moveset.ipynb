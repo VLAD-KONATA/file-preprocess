{
 "cells": [
  {
   "cell_type": "code",
   "execution_count": 12,
   "metadata": {},
   "outputs": [
    {
     "data": {
      "text/plain": [
       "578"
      ]
     },
     "execution_count": 12,
     "metadata": {},
     "output_type": "execute_result"
    }
   ],
   "source": [
    "import os\n",
    "import random\n",
    "import shutil\n",
    "baseDir='/home/konata/Dataset/I3Net/IXI-T2'\n",
    "objDir='/home/konata/Dataset/I3Net/imagesTr'\n",
    "objDir2='/home/konata/Dataset/I3Net/imagesTs'\n",
    "list=os.listdir('/home/konata/Dataset/I3Net/IXI-T2')\n",
    "len(list)"
   ]
  },
  {
   "cell_type": "code",
   "execution_count": 13,
   "metadata": {},
   "outputs": [],
   "source": [
    "test=random.sample(list,int(len(list)/5))\n",
    "train=[i for i in list if i not in test]\n"
   ]
  },
  {
   "cell_type": "code",
   "execution_count": 17,
   "metadata": {},
   "outputs": [],
   "source": [
    "for i in train:\n",
    "    shutil.copy(os.path.join(baseDir,i), os.path.join(objDir,i))\n",
    "for i in test:\n",
    "    shutil.copy(os.path.join(baseDir,i), os.path.join(objDir2,i))\n"
   ]
  }
 ],
 "metadata": {
  "kernelspec": {
   "display_name": "preprocess",
   "language": "python",
   "name": "python3"
  },
  "language_info": {
   "codemirror_mode": {
    "name": "ipython",
    "version": 3
   },
   "file_extension": ".py",
   "mimetype": "text/x-python",
   "name": "python",
   "nbconvert_exporter": "python",
   "pygments_lexer": "ipython3",
   "version": "3.9.19"
  },
  "orig_nbformat": 4
 },
 "nbformat": 4,
 "nbformat_minor": 2
}
