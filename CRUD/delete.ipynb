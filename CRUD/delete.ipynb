{
 "cells": [
  {
   "cell_type": "code",
   "execution_count": 2,
   "metadata": {},
   "outputs": [],
   "source": [
    "import os"
   ]
  },
  {
   "cell_type": "code",
   "execution_count": 3,
   "metadata": {},
   "outputs": [],
   "source": [
    "trainDir=r'D:/data/BraTS2020/BraTS2020_TrainingData/MICCAI_BraTS2020_TrainingData/'\n",
    "\n",
    "trainlist=os.listdir(trainDir)\n",
    "\n",
    "for folder in trainlist:\n",
    "    if 'slice0' in folder:\n",
    "        trainfiles=os.listdir(trainDir+folder)\n",
    "        for file in trainfiles:\n",
    "            os.chdir(trainDir+folder)\n",
    "            if '.gz' not in file:\n",
    "                os.remove(file)\n"
   ]
  },
  {
   "cell_type": "code",
   "execution_count": 4,
   "metadata": {},
   "outputs": [],
   "source": [
    "testDir=r'/home/konata/Dataset/IXI-T2/CATANet/val_multiscale/'\n",
    "testlist=os.listdir(testDir)\n",
    "for file in testlist:\n",
    "    if file.split('_')[-1].split('.png')[0][-1]!='0':\n",
    "        os.remove(os.path.join(testDir,file))\n",
    "           "
   ]
  }
 ],
 "metadata": {
  "kernelspec": {
   "display_name": "BPE-test",
   "language": "python",
   "name": "python3"
  },
  "language_info": {
   "codemirror_mode": {
    "name": "ipython",
    "version": 3
   },
   "file_extension": ".py",
   "mimetype": "text/x-python",
   "name": "python",
   "nbconvert_exporter": "python",
   "pygments_lexer": "ipython3",
   "version": "3.9.19"
  }
 },
 "nbformat": 4,
 "nbformat_minor": 2
}
