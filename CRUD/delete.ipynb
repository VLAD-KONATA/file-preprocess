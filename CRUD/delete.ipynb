{
 "cells": [
  {
   "cell_type": "code",
   "execution_count": 1,
   "metadata": {},
   "outputs": [],
   "source": [
    "import os"
   ]
  },
  {
   "cell_type": "code",
   "execution_count": 3,
   "metadata": {},
   "outputs": [],
   "source": [
    "trainDir=r'D:/data/BraTS2020/BraTS2020_TrainingData/MICCAI_BraTS2020_TrainingData/'\n",
    "\n",
    "trainlist=os.listdir(trainDir)\n",
    "\n",
    "for folder in trainlist:\n",
    "    if 'slice0' in folder:\n",
    "        trainfiles=os.listdir(trainDir+folder)\n",
    "        for file in trainfiles:\n",
    "            os.chdir(trainDir+folder)\n",
    "            if '.gz' not in file:\n",
    "                os.remove(file)\n"
   ]
  },
  {
   "cell_type": "code",
   "execution_count": null,
   "metadata": {},
   "outputs": [],
   "source": [
    "testDir=r'D:/data/BraTS2020/BraTS2020_ValidationData/MICCAI_BraTS2020_ValidationData/'\n",
    "testlist=os.listdir(testDir)\n",
    "for folder in testlist:\n",
    "    if 'slice1' in folder:\n",
    "        testfiles=os.listdir(testDir+folder)\n",
    "        for file in testfiles:\n",
    "            os.chdir(testDir+folder)\n",
    "            if '.gz' not in file:\n",
    "                os.remove(file)"
   ]
  }
 ],
 "metadata": {
  "kernelspec": {
   "display_name": "BPE-test",
   "language": "python",
   "name": "python3"
  },
  "language_info": {
   "codemirror_mode": {
    "name": "ipython",
    "version": 3
   },
   "file_extension": ".py",
   "mimetype": "text/x-python",
   "name": "python",
   "nbconvert_exporter": "python",
   "pygments_lexer": "ipython3",
   "version": "3.10.13"
  }
 },
 "nbformat": 4,
 "nbformat_minor": 2
}
