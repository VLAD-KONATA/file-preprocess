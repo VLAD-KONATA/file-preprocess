{
 "cells": [
  {
   "cell_type": "code",
   "execution_count": 1,
   "metadata": {},
   "outputs": [],
   "source": [
    "import os\n",
    "import shutil"
   ]
  },
  {
   "cell_type": "code",
   "execution_count": 2,
   "metadata": {},
   "outputs": [],
   "source": [
    "baseDir = os.path.normpath(r'E:/breastxxx/Whole_breast/')\n",
    "objDir = os.path.normpath(r'E:/breastxxx/crop_data/')\n",
    "listDir = os.path.normpath(r'E:/breastxxx/Whole_breast/')\n",
    "fileslist=os.listdir(listDir)\n",
    "if not os.path.exists(r'E:/breastxxx/data/wo_label'):\n",
    "        os.makedirs(r'E:/breastxxx/data/wo_label')"
   ]
  },
  {
   "cell_type": "code",
   "execution_count": 5,
   "metadata": {},
   "outputs": [],
   "source": [
    "for file in fileslist:\n",
    "    source=baseDir+\"\\\\\"+file\n",
    "    destination=objDir+\"\\\\\"+file[:-7]+\"\\\\\"\n",
    "    #if os.path.exists(destination+\"\\\\\"+file):\n",
    "    #    os.remove(destination+\"\\\\\"+file)\n",
    "    shutil.move(source, destination) \n",
    "    "
   ]
  }
 ],
 "metadata": {
  "kernelspec": {
   "display_name": "BPE-test",
   "language": "python",
   "name": "python3"
  },
  "language_info": {
   "codemirror_mode": {
    "name": "ipython",
    "version": 3
   },
   "file_extension": ".py",
   "mimetype": "text/x-python",
   "name": "python",
   "nbconvert_exporter": "python",
   "pygments_lexer": "ipython3",
   "version": "3.10.13"
  }
 },
 "nbformat": 4,
 "nbformat_minor": 2
}
