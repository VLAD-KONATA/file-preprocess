{
 "cells": [
  {
   "cell_type": "code",
   "execution_count": 18,
   "metadata": {},
   "outputs": [],
   "source": [
    "import os\n",
    "import shutil\n",
    "#shutil.copytree(source, destination) \n"
   ]
  },
  {
   "cell_type": "code",
   "execution_count": 24,
   "metadata": {},
   "outputs": [],
   "source": [
    "baseDir = os.path.normpath(r'E:/breastxxx/crop_data/')\n",
    "objDir = os.path.normpath(r'E:/breastxxx/data/wo_label')\n",
    "listDir = os.path.normpath(r'E:/breastxxx/Whole_breast/')\n",
    "folderslist=os.listdir(listDir)\n",
    "if not os.path.exists(r'E:/breastxxx/data/wo_label'):\n",
    "        os.makedirs(r'E:/breastxxx/data/wo_label')"
   ]
  },
  {
   "cell_type": "code",
   "execution_count": 25,
   "metadata": {},
   "outputs": [],
   "source": [
    "for folder in folderslist:\n",
    "    shutil.copytree(baseDir+\"\\\\\"+folder[:-7], objDir+\"\\\\\"+folder[:-7]) \n",
    "    "
   ]
  }
 ],
 "metadata": {
  "kernelspec": {
   "display_name": "BPE-test",
   "language": "python",
   "name": "python3"
  },
  "language_info": {
   "codemirror_mode": {
    "name": "ipython",
    "version": 3
   },
   "file_extension": ".py",
   "mimetype": "text/x-python",
   "name": "python",
   "nbconvert_exporter": "python",
   "pygments_lexer": "ipython3",
   "version": "3.10.13"
  }
 },
 "nbformat": 4,
 "nbformat_minor": 2
}
